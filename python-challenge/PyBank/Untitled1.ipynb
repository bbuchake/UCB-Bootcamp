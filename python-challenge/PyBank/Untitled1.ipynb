{
 "cells": [
  {
   "cell_type": "code",
   "execution_count": 5,
   "metadata": {},
   "outputs": [
    {
     "name": "stdout",
     "output_type": "stream",
     "text": [
      "Please enter the file path: budget_data_1.csv\n",
      "Total months: 41\n",
      "Total revenue: 18971412\n",
      "Average revenue change 462717\n",
      "Greatest revenue increase Sep-15 1195111\n",
      "Greatest revenue decrease Feb-16 883934\n"
     ]
    }
   ],
   "source": [
    "#Import modules\n",
    "import csv\n",
    "import os\n",
    "\n",
    "#Get file path from user\n",
    "budget_data_path = input(\"Please enter the file path: \")\n",
    "\n",
    "#Declare variables\n",
    "total_months = 0\n",
    "total_revenue = 0\n",
    "greatest_rev_increase = 0\n",
    "rev_increase_month = \"\"\n",
    "greatest_rev_decrease = 0\n",
    "rev_decrease_month = \"\"\n",
    "\n",
    "#Read from csv file\n",
    "with open(budget_data_path, \"r\") as budget_data_file:\n",
    "    budget_data_reader = csv.reader(budget_data_file, delimiter = \",\")\n",
    "    next(budget_data_reader) #Skip header\n",
    "    #Calculate total months which is same as total number of rows in the file\n",
    "    #total_months = len(list(budget_data_reader)) - *** When I ran this line, it worked but then the reader finished \n",
    "    #reading to the end of the line and the 'for' loop did not work\n",
    "    for budget_data_row in budget_data_reader:\n",
    "        #Calculate total revenue\n",
    "        total_months = total_months + 1\n",
    "        total_revenue = total_revenue + int(budget_data_row[1])\n",
    "        if int(budget_data_row[1]) > greatest_rev_increase:\n",
    "            greatest_rev_increase = int(budget_data_row[1])\n",
    "            rev_increase_month = budget_data_row[0]\n",
    "        else:\n",
    "            greatest_rev_decrease = int(budget_data_row[1])\n",
    "            rev_decrease_month = budget_data_row[0]\n",
    "            \n",
    "    avg_rev_change = int(total_revenue / total_months)\n",
    "    \n",
    "    \n",
    "    print(\"Total months: \" + str(total_months))\n",
    "    print(\"Total revenue: \" + str(total_revenue))\n",
    "    print(\"Average revenue change \" + str(avg_rev_change))\n",
    "    print(\"Greatest revenue increase \" + rev_increase_month + \" \" + str(greatest_rev_increase))\n",
    "    print(\"Greatest revenue decrease \" + rev_decrease_month + \" \" + str(greatest_rev_decrease))"
   ]
  },
  {
   "cell_type": "code",
   "execution_count": null,
   "metadata": {
    "collapsed": true
   },
   "outputs": [],
   "source": []
  }
 ],
 "metadata": {
  "kernelspec": {
   "display_name": "Python [default]",
   "language": "python",
   "name": "python3"
  },
  "language_info": {
   "codemirror_mode": {
    "name": "ipython",
    "version": 3
   },
   "file_extension": ".py",
   "mimetype": "text/x-python",
   "name": "python",
   "nbconvert_exporter": "python",
   "pygments_lexer": "ipython3",
   "version": "3.6.3"
  }
 },
 "nbformat": 4,
 "nbformat_minor": 2
}

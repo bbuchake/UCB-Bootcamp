{
 "cells": [
  {
   "cell_type": "code",
   "execution_count": 27,
   "metadata": {},
   "outputs": [
    {
     "name": "stdout",
     "output_type": "stream",
     "text": [
      "Please enter path to poll data file: temp.csv\n",
      "Invalid path or file does not exist.\n",
      "Please enter path to poll data file: election_data_1.csv\n",
      "\n",
      "Election Results\n",
      "----------------------------------------\n",
      "Total votes: 803000\n",
      "----------------------------------------\n",
      "\n",
      "Vestal: 48% (385440)\n",
      "Torres: 44% (353320)\n",
      "Seth: 5% (40150)\n",
      "Cordin: 3% (24090)\n",
      "\n",
      "----------------------------------------\n",
      "Winner: Vestal\n"
     ]
    }
   ],
   "source": [
    "#Import libraries\n",
    "import csv\n",
    "import os\n",
    "\n",
    "#Get file path\n",
    "file_valid = 0\n",
    "while file_valid == 0:\n",
    "    poll_data_path = input(\"Please enter path to poll data file: \")\n",
    "    if os.path.isfile(poll_data_path):\n",
    "        file_valid = 1\n",
    "    else:\n",
    "        print(\"Invalid path or file does not exist.\")\n",
    "\n",
    "#Declare variables\n",
    "total_votes = 0\n",
    "candidates = {}\n",
    "winner = 0\n",
    "winner_name = \"\"\n",
    "\n",
    "#Read from csv file\n",
    "with open(poll_data_path, \"r\") as poll_data_file:\n",
    "    poll_data_reader = csv.reader(poll_data_file, delimiter = \",\")\n",
    "    next(poll_data_reader)\n",
    "    for poll_data_row in poll_data_reader:\n",
    "        total_votes = total_votes + 1 #Count total votes\n",
    "        if not poll_data_row[2] in candidates.keys():\n",
    "            candidates[poll_data_row[2]] = 1\n",
    "        else:\n",
    "            candidates[poll_data_row[2]] = candidates[poll_data_row[2]] + 1\n",
    "\n",
    "#Print results and write to file\n",
    "results_file = open(\"election_results.txt\", \"w\")\n",
    "\n",
    "print(\"\\nElection Results\\n----------------------------------------\\nTotal votes: \" + str(total_votes) + \n",
    "      \"\\n----------------------------------------\\n\")\n",
    "results_file.write(\"\\nElection Results\\n----------------------------------------\\nTotal votes: \" + str(total_votes) + \n",
    "      \"\\n----------------------------------------\\n\")\n",
    "#Now we have the dictionary, let's loop through it\n",
    "for name, count in candidates.items():\n",
    "    print(name + \": \" + str(int(count/total_votes * 100)) + \"% (\" + str(count) + \")\")\n",
    "    results_file.write(name + \": \" + str(int(count/total_votes * 100)) + \"% (\" + str(count) + \")\\n\")\n",
    "    if count > winner:\n",
    "        winner = count\n",
    "        winner_name = name\n",
    "\n",
    "print(\"\\n----------------------------------------\\nWinner: \" + winner_name)\n",
    "results_file.write(\"\\n----------------------------------------\\nWinner: \" + winner_name)        \n",
    "    \n",
    "results_file.close()"
   ]
  },
  {
   "cell_type": "code",
   "execution_count": null,
   "metadata": {
    "collapsed": true
   },
   "outputs": [],
   "source": []
  }
 ],
 "metadata": {
  "kernelspec": {
   "display_name": "Python [default]",
   "language": "python",
   "name": "python3"
  },
  "language_info": {
   "codemirror_mode": {
    "name": "ipython",
    "version": 3
   },
   "file_extension": ".py",
   "mimetype": "text/x-python",
   "name": "python",
   "nbconvert_exporter": "python",
   "pygments_lexer": "ipython3",
   "version": "3.6.3"
  }
 },
 "nbformat": 4,
 "nbformat_minor": 2
}
